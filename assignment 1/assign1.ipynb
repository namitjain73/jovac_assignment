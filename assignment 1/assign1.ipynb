{
 "cells": [
  {
   "cell_type": "code",
   "execution_count": 1,
   "id": "6cabf266",
   "metadata": {},
   "outputs": [],
   "source": [
    "#task1\n",
    "class MyCustomError(Exception):\n",
    "    def __init__(self, message):\n",
    "        super().__init__(message)\n"
   ]
  },
  {
   "cell_type": "code",
   "execution_count": 2,
   "id": "bd5543cf",
   "metadata": {},
   "outputs": [],
   "source": [
    "\n",
    "def divide_numbers(a, b):\n",
    "    if b == 0:\n",
    "        raise MyCustomError(\"Division by zero is not allowed.\")\n",
    "    return a / b"
   ]
  },
  {
   "cell_type": "code",
   "execution_count": 3,
   "id": "c4087d4a",
   "metadata": {},
   "outputs": [
    {
     "name": "stdout",
     "output_type": "stream",
     "text": [
      "Custom Exception Caught: Division by zero is not allowed.\n"
     ]
    }
   ],
   "source": [
    "\n",
    "try:\n",
    "    result = divide_numbers(10, 0)\n",
    "    print(\"Result:\", result)\n",
    "except MyCustomError as e:\n",
    "    print(\"Custom Exception Caught:\", e)\n",
    "\n"
   ]
  },
  {
   "cell_type": "code",
   "execution_count": 4,
   "id": "41b16c28",
   "metadata": {},
   "outputs": [],
   "source": [
    "#task2\n",
    "import numpy as np\n",
    "import csv"
   ]
  },
  {
   "cell_type": "code",
   "execution_count": 5,
   "id": "7ba24de7",
   "metadata": {},
   "outputs": [],
   "source": [
    "arr = np.array([[10, 20, 30],\n",
    "                [40, 50, 60],\n",
    "                [70, 80, 90]])"
   ]
  },
  {
   "cell_type": "code",
   "execution_count": 6,
   "id": "4f169af4",
   "metadata": {},
   "outputs": [
    {
     "name": "stdout",
     "output_type": "stream",
     "text": [
      "Array written to 'arr.csv'\n"
     ]
    }
   ],
   "source": [
    "with open('arr.csv', 'w', newline='') as f1:\n",
    "    writer = csv.writer(f1)\n",
    "    writer.writerows(arr)\n",
    "print(\"Array written to 'arr.csv'\")"
   ]
  },
  {
   "cell_type": "code",
   "execution_count": 7,
   "id": "a465f4f5",
   "metadata": {},
   "outputs": [],
   "source": [
    "new_arr = []\n",
    "with open('arr.csv', 'r') as f1:\n",
    "    reader = csv.reader(f1)\n",
    "    for row in reader:\n",
    "        new_arr.append([int(x) for x in row])"
   ]
  },
  {
   "cell_type": "code",
   "execution_count": 8,
   "id": "08e95f0a",
   "metadata": {},
   "outputs": [
    {
     "name": "stdout",
     "output_type": "stream",
     "text": [
      "Array read from 'arr.csv':\n",
      "[[10 20 30]\n",
      " [40 50 60]\n",
      " [70 80 90]]\n"
     ]
    }
   ],
   "source": [
    "new_arr = np.array(new_arr)\n",
    "print(\"Array read from 'arr.csv':\")\n",
    "print(new_arr)\n"
   ]
  }
 ],
 "metadata": {
  "kernelspec": {
   "display_name": "Python 3",
   "language": "python",
   "name": "python3"
  },
  "language_info": {
   "codemirror_mode": {
    "name": "ipython",
    "version": 3
   },
   "file_extension": ".py",
   "mimetype": "text/x-python",
   "name": "python",
   "nbconvert_exporter": "python",
   "pygments_lexer": "ipython3",
   "version": "3.7.2"
  }
 },
 "nbformat": 4,
 "nbformat_minor": 5
}
